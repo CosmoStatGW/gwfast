{
 "cells": [
  {
   "cell_type": "code",
   "execution_count": 1,
   "metadata": {},
   "outputs": [
    {
     "name": "stdout",
     "output_type": "stream",
     "text": [
      "/Users/Michi/Dropbox/Local/Physics_projects/GWfish\n"
     ]
    }
   ],
   "source": [
    "import os\n",
    "import sys\n",
    "\n",
    "PACKAGE_PARENT = '..'\n",
    "SCRIPT_DIR = os.path.dirname(os.path.realpath(os.path.join(os.getcwd())))\n",
    "#sys.path.append(os.path.normpath(os.path.join(SCRIPT_DIR, PACKAGE_PARENT)))\n",
    "\n",
    "sys.path.append(SCRIPT_DIR)\n",
    "print(SCRIPT_DIR)"
   ]
  },
  {
   "cell_type": "code",
   "execution_count": 2,
   "metadata": {},
   "outputs": [],
   "source": [
    "import copy\n",
    "import numpy as onp"
   ]
  },
  {
   "cell_type": "code",
   "execution_count": 3,
   "metadata": {},
   "outputs": [],
   "source": [
    "import GWfish.Globals as glob"
   ]
  },
  {
   "cell_type": "code",
   "execution_count": 4,
   "metadata": {},
   "outputs": [],
   "source": [
    "#import jax"
   ]
  },
  {
   "cell_type": "code",
   "execution_count": 5,
   "metadata": {},
   "outputs": [],
   "source": [
    "#XLA_PYTHON_CLIENT_MEM_FRACTION=.2"
   ]
  },
  {
   "cell_type": "markdown",
   "metadata": {},
   "source": [
    "## COMPLETE EXAMPLE: GW170817"
   ]
  },
  {
   "cell_type": "code",
   "execution_count": 4,
   "metadata": {},
   "outputs": [],
   "source": [
    "# We use the positions of existing LVC detectors \n",
    "from GWfish.Globals import detectors as base_dets\n",
    "\n",
    "LVKdetectors = copy.deepcopy(base_dets)"
   ]
  },
  {
   "cell_type": "code",
   "execution_count": 5,
   "metadata": {},
   "outputs": [],
   "source": [
    "# We use the O2 psds\n",
    "LVKdetectors['L1']['psd_path'] =os.path.join(glob.detPath, 'LVK_O1O2O3', '2017-08-06_DCH_C02_L1_O2_Sensitivity_strain_asd.txt')\n",
    "LVKdetectors['H1']['psd_path'] =os.path.join(glob.detPath, 'LVK_O1O2O3', '2017-06-10_DCH_C02_H1_O2_Sensitivity_strain_asd.txt')\n",
    "LVKdetectors['Virgo']['psd_path'] =os.path.join(glob.detPath, 'LVK_O1O2O3', 'Hrec_hoft_V1O2Repro2A_16384Hz.txt')\n",
    "\n",
    "\n",
    "\n"
   ]
  },
  {
   "cell_type": "code",
   "execution_count": 6,
   "metadata": {},
   "outputs": [],
   "source": [
    "from GWfish.waveforms import ReducedPN_TaylorF2_BNS\n",
    "from GWfish.signal import GWSignal\n",
    "from GWfish.network import DetNet\n",
    "from fisherTools import check_covariance\n"
   ]
  },
  {
   "cell_type": "code",
   "execution_count": 7,
   "metadata": {},
   "outputs": [
    {
     "name": "stdout",
     "output_type": "stream",
     "text": [
      "Using PSD from file /Users/Michi/Dropbox/Local/Physics_projects/GWfish/psds/LVK_O1O2O3/2017-08-06_DCH_C02_L1_O2_Sensitivity_strain_asd.txt \n",
      "WARNING: the motion of Earth gives a relevant contribution for BNS signals, consider switching it on\n",
      "Using PSD from file /Users/Michi/Dropbox/Local/Physics_projects/GWfish/psds/LVK_O1O2O3/2017-06-10_DCH_C02_H1_O2_Sensitivity_strain_asd.txt \n",
      "WARNING: the motion of Earth gives a relevant contribution for BNS signals, consider switching it on\n",
      "Using PSD from file /Users/Michi/Dropbox/Local/Physics_projects/GWfish/psds/LVK_O1O2O3/Hrec_hoft_V1O2Repro2A_16384Hz.txt \n",
      "WARNING: the motion of Earth gives a relevant contribution for BNS signals, consider switching it on\n"
     ]
    }
   ],
   "source": [
    "\n",
    "myLVKSignals = {}\n",
    "\n",
    "for d in LVKdetectors.keys():\n",
    "\n",
    "    myLVKSignals[d] = GWSignal( ReducedPN_TaylorF2_BNS(), \n",
    "                psd_path=LVKdetectors[d]['psd_path'],\n",
    "                detector_shape = LVKdetectors[d]['shape'],\n",
    "                det_lat= LVKdetectors[d]['lat'],\n",
    "                det_long=LVKdetectors[d]['long'],\n",
    "                det_xax=LVKdetectors[d]['xax'], \n",
    "                verbose=True,\n",
    "                useEarthMotion = False,\n",
    "                fmin=10.,\n",
    "                IntTablePath=None) \n",
    "        #os.path.join('../data/New_ET_Curves_11-16/ASD_ETtest/HFLF_cryo/', 'Integral_Tables', 'NewtInspiralBNS200.h5'))\n",
    "\n",
    "myLVKNet = DetNet(myLVKSignals)      "
   ]
  },
  {
   "cell_type": "code",
   "execution_count": 58,
   "metadata": {},
   "outputs": [
    {
     "data": {
      "text/plain": [
       "{'Mc': array([1.19786]),\n",
       " 'dL': array([0.04]),\n",
       " 'theta': array([1.96552193]),\n",
       " 'phi': array([3.44607989]),\n",
       " 'iota': array([2.54818071]),\n",
       " 'psi': array([0.]),\n",
       " 'tcoal': array([0.]),\n",
       " 'eta': array([0.24878906]),\n",
       " 'Phicoal': array([0.])}"
      ]
     },
     "execution_count": 58,
     "metadata": {},
     "output_type": "execute_result"
    }
   ],
   "source": [
    "from utils import th_phi_from_ra_dec, deg_min_sec_to_decimal_deg, hr_min_sec_to_decimal_deg\n",
    "\n",
    "decGW170817 = deg_min_sec_to_decimal_deg(-23, 23, 2)\n",
    "raGW170817 =  hr_min_sec_to_decimal_deg(13, 9, 47)\n",
    "\n",
    "thGW170817, phiGW170817 = th_phi_from_ra_dec(raGW170817, decGW170817)\n",
    "\n",
    "m1GW170817 = 1.46\n",
    "m2GW170817 = 1.27\n",
    "mTotGW170817 = m1GW170817+m2GW170817\n",
    "etaGW170817 = m1GW170817*m2GW170817/mTotGW170817**2\n",
    "\n",
    "\n",
    "GW170817 = {'Mc': onp.array([1.186*(1+0.01) ,]) , # in detector frame  \n",
    "            'dL': onp.array([40/1000,]), # in Gpc\n",
    "            'theta': onp.array([thGW170817,]),  \n",
    "            'phi': onp.array([phiGW170817,]),\n",
    "            'iota': onp.array([146*onp.pi/180],),\n",
    "            'psi': onp.array([0.,]), #onp.random.uniform(0, np.pi*2, 1),\n",
    "            'tcoal': onp.zeros(1), #onp.random.uniform(0, 1, 1), \n",
    "            'eta': onp.array([etaGW170817, ]), #onp.random.uniform(0, 0.25, 1), \n",
    "            'Phicoal': onp.zeros(1), #onp.random.uniform(0, np.pi*2, 1)\n",
    "           }\n",
    "\n",
    "GW170817 "
   ]
  },
  {
   "cell_type": "code",
   "execution_count": 59,
   "metadata": {},
   "outputs": [
    {
     "data": {
      "text/plain": [
       "array([12.67631999])"
      ]
     },
     "execution_count": 59,
     "metadata": {},
     "output_type": "execute_result"
    }
   ],
   "source": [
    "# Compute the expected SNR (true was 33 )\n",
    "myLVKNet.SNR(GW170817)"
   ]
  },
  {
   "cell_type": "code",
   "execution_count": 60,
   "metadata": {},
   "outputs": [
    {
     "name": "stdout",
     "output_type": "stream",
     "text": [
      "\n",
      "Computing Fisher for L1...\n",
      "\n",
      "Computing Fisher for H1...\n",
      "\n",
      "Computing Fisher for Virgo...\n",
      "\n",
      "Computing total Fisher ...\n",
      "Condition number= [1.5248049e+14] . Ok. \n",
      "Done.\n"
     ]
    }
   ],
   "source": [
    "# Compute the total Fisher matrix. Here the derivatives are wrt dL\n",
    "totF = myLVKNet.FisherMatr(GW170817, res=1000)"
   ]
  },
  {
   "cell_type": "code",
   "execution_count": 64,
   "metadata": {},
   "outputs": [],
   "source": [
    "# Compute the total Fisher matrix\n",
    "\n",
    "from fisherTools import log_dL_to_dL_derivative_fish, CheckFisher\n",
    "\n",
    "# This Fisher is wrt dL, using Fisher wrt dL, converted before inversion\n",
    "totF_dL = log_dL_to_dL_derivative_fish(totF, {'logdL':1}, GW170817)"
   ]
  },
  {
   "cell_type": "code",
   "execution_count": 65,
   "metadata": {},
   "outputs": [
    {
     "data": {
      "text/plain": [
       "array([164780.00365439])"
      ]
     },
     "execution_count": 65,
     "metadata": {},
     "output_type": "execute_result"
    }
   ],
   "source": [
    "totF[1, 1]/0.04**2"
   ]
  },
  {
   "cell_type": "code",
   "execution_count": 66,
   "metadata": {},
   "outputs": [
    {
     "data": {
      "text/plain": [
       "array([164780.00365439])"
      ]
     },
     "execution_count": 66,
     "metadata": {},
     "output_type": "execute_result"
    }
   ],
   "source": [
    "totF_dL[1, 1]"
   ]
  },
  {
   "cell_type": "markdown",
   "metadata": {},
   "source": [
    "#### 1 - compute covariance in logdL"
   ]
  },
  {
   "cell_type": "code",
   "execution_count": 14,
   "metadata": {},
   "outputs": [
    {
     "name": "stdout",
     "output_type": "stream",
     "text": [
      "\n",
      "Computing total covariance ...\n",
      "Condition number= [1.52163305e+14] . Ok. \n",
      "Done.\n",
      "Inversion error: [0.009480738964702367] \n"
     ]
    }
   ],
   "source": [
    "# Compute covariance matrix\n",
    "\n",
    "# This covariance is wrt logdL\n",
    "Cov, parNums, eps, _ = myLVKNet.CovMatr(GW170817, ParMarg=None, FisherM=totF, \n",
    "                                     invMethod='inv', \n",
    "                                     return_inv_err=True, \n",
    "                                     get_individual=False,\n",
    "                                     return_dL_derivs=False)"
   ]
  },
  {
   "cell_type": "code",
   "execution_count": 15,
   "metadata": {},
   "outputs": [
    {
     "name": "stdout",
     "output_type": "stream",
     "text": [
      "Inversion errors: [0.009480738964702367]\n",
      "diagonal-1 = [array([-1.03842467e-07, -1.73268067e-11,  3.37564643e-09,  1.31319666e-09,\n",
      "        5.98488725e-09, -6.51198206e-10, -2.18278728e-11,  3.08267772e-07,\n",
      "        4.51109372e-10])]\n",
      "Max off diagonal: [0.000948609784245491]\n",
      "\n",
      "mask: where F*S(off-diagonal)>1e-10 (--> problematic if True off diagonal)\n",
      "[array([[ True, False,  True, False, False, False,  True,  True, False],\n",
      "       [ True,  True, False,  True,  True, False, False, False,  True],\n",
      "       [False, False,  True, False, False,  True,  True,  True, False],\n",
      "       [ True, False, False,  True, False, False, False, False,  True],\n",
      "       [ True, False, False,  True,  True, False, False, False,  True],\n",
      "       [ True, False, False,  True, False,  True, False, False,  True],\n",
      "       [ True, False, False, False, False, False,  True, False, False],\n",
      "       [False, False, False, False, False, False,  True,  True, False],\n",
      "       [ True, False, False,  True, False, False,  True, False,  True]])]\n"
     ]
    }
   ],
   "source": [
    "II = check_covariance(totF, Cov)"
   ]
  },
  {
   "cell_type": "markdown",
   "metadata": {},
   "source": [
    "#### 2 - compute covariance by inverting fisher in logdL and then switching to dL derivative"
   ]
  },
  {
   "cell_type": "code",
   "execution_count": 16,
   "metadata": {},
   "outputs": [
    {
     "name": "stdout",
     "output_type": "stream",
     "text": [
      "\n",
      "Computing total covariance ...\n",
      "Condition number= [1.52163305e+14] . Ok. \n",
      "Switching from derivatives wrt logdL to derivatives wrt dL...\n",
      "Done.\n",
      "Converting Fisher to dL to check inversion error...\n",
      "Inversion error: [0.009480739686691166] \n"
     ]
    }
   ],
   "source": [
    "# Compute covariance matrix\n",
    "\n",
    "# This covariance is wrt dL, using Fisher wrt logdL and converting after inversions\n",
    "Cov_dL, parNums_dL, eps_dL, _ = myLVKNet.CovMatr(GW170817, ParMarg=None, FisherM=totF, \n",
    "                                     invMethod='inv', \n",
    "                                     return_inv_err=True, \n",
    "                                    get_individual=False,\n",
    "                                     return_dL_derivs=True)"
   ]
  },
  {
   "cell_type": "code",
   "execution_count": 17,
   "metadata": {},
   "outputs": [
    {
     "name": "stdout",
     "output_type": "stream",
     "text": [
      "Inversion errors: [0.009480739686691166]\n",
      "diagonal-1 = [array([-1.03842467e-07, -1.73250303e-11,  3.37564643e-09,  1.31319666e-09,\n",
      "        5.98488725e-09, -6.51198206e-10, -2.18278728e-11,  3.08267772e-07,\n",
      "        4.51109372e-10])]\n",
      "Max off diagonal: [0.000948609784245491]\n",
      "\n",
      "mask: where F*S(off-diagonal)>1e-10 (--> problematic if True off diagonal)\n",
      "[array([[ True, False,  True, False, False, False,  True,  True, False],\n",
      "       [ True,  True, False,  True,  True, False, False, False,  True],\n",
      "       [False, False,  True, False, False,  True,  True,  True, False],\n",
      "       [ True, False, False,  True, False, False, False, False,  True],\n",
      "       [ True, False, False,  True,  True, False, False, False,  True],\n",
      "       [ True, False, False,  True, False,  True, False, False,  True],\n",
      "       [ True, False, False, False, False, False,  True, False, False],\n",
      "       [False, False, False, False, False, False,  True,  True, False],\n",
      "       [ True, False, False,  True, False, False,  True, False,  True]])]\n"
     ]
    }
   ],
   "source": [
    "II = check_covariance(totF_dL, Cov_dL)"
   ]
  },
  {
   "cell_type": "markdown",
   "metadata": {},
   "source": [
    "#### 3 - compute covariance by inverting Fisher in dL"
   ]
  },
  {
   "cell_type": "code",
   "execution_count": 18,
   "metadata": {},
   "outputs": [
    {
     "name": "stdout",
     "output_type": "stream",
     "text": [
      "Condition number= [1.52095382e+14] . Ok. \n"
     ]
    }
   ],
   "source": [
    "_ = CheckFisher(totF_dL)"
   ]
  },
  {
   "cell_type": "code",
   "execution_count": 19,
   "metadata": {},
   "outputs": [
    {
     "name": "stdout",
     "output_type": "stream",
     "text": [
      "\n",
      "Computing total covariance ...\n",
      "Condition number= [1.52095382e+14] . Ok. \n",
      "Done.\n",
      "Inversion error: [0.0029610963701489144] \n"
     ]
    }
   ],
   "source": [
    "# Compute covariance matrix\n",
    "\n",
    "Cov_from_dL_fish, _, _, _ = myLVKNet.CovMatr(GW170817, ParMarg=None, FisherM=totF_dL, \n",
    "                                     invMethod='inv', \n",
    "                                     return_inv_err=True, \n",
    "                                     get_individual=False,\n",
    "                                     return_dL_derivs=False)"
   ]
  },
  {
   "cell_type": "code",
   "execution_count": 20,
   "metadata": {},
   "outputs": [
    {
     "data": {
      "text/plain": [
       "1.91281505301788e-07"
      ]
     },
     "execution_count": 20,
     "metadata": {},
     "output_type": "execute_result"
    }
   ],
   "source": [
    "(Cov_from_dL_fish - Cov_dL).max()"
   ]
  },
  {
   "cell_type": "code",
   "execution_count": 33,
   "metadata": {},
   "outputs": [
    {
     "name": "stdout",
     "output_type": "stream",
     "text": [
      "Inversion errors: [0.0029610963701489144]\n",
      "diagonal-1 = [array([ 3.52971256e-07,  2.36788367e-12,  1.70803105e-09,  1.84400051e-10,\n",
      "        1.87375804e-09,  1.60071068e-10,  1.65891834e-09, -1.02911144e-07,\n",
      "       -1.65891834e-09])]\n",
      "Max off diagonal: [0.00029608234763145447]\n",
      "\n",
      "mask: where F*S(off-diagonal)>1e-10 (--> problematic if True off diagonal)\n",
      "[array([[ True, False, False,  True, False, False, False, False, False],\n",
      "       [ True,  True, False,  True, False, False, False, False,  True],\n",
      "       [False, False,  True, False, False,  True,  True,  True, False],\n",
      "       [ True, False, False,  True, False, False, False, False, False],\n",
      "       [ True, False, False,  True,  True, False, False, False,  True],\n",
      "       [False, False,  True, False, False,  True,  True,  True, False],\n",
      "       [False, False, False, False, False, False,  True,  True, False],\n",
      "       [ True, False, False, False, False, False, False,  True, False],\n",
      "       [False, False,  True, False, False,  True,  True,  True,  True]])]\n"
     ]
    }
   ],
   "source": [
    "_ = check_covariance(totF_dL, Cov_from_dL_fish)"
   ]
  },
  {
   "cell_type": "markdown",
   "metadata": {},
   "source": [
    "#### Perturb Fisher. \n",
    "\n",
    "From this check it seems that in order to have a percent level accuracy on the covariance, we need $10^{-4}$ accuracy on the Fisher"
   ]
  },
  {
   "cell_type": "code",
   "execution_count": 32,
   "metadata": {},
   "outputs": [
    {
     "name": "stdout",
     "output_type": "stream",
     "text": [
      "\n",
      "Computing total covariance ...\n",
      "Condition number= [1.52163305e+14] . Ok. \n",
      "Switching from derivatives wrt logdL to derivatives wrt dL...\n",
      "Done.\n",
      "\n",
      "Computing total covariance ...\n",
      "Condition number= [1.50322625e+14] . Ok. \n",
      "Switching from derivatives wrt logdL to derivatives wrt dL...\n",
      "Done.\n",
      "Errors: [0.019261441901277987]\n"
     ]
    }
   ],
   "source": [
    "# Perturb fisher and check that covariance doesn't change much\n",
    "from fisherTools import perturb_Fisher \n",
    "\n",
    "perturb_Fisher(totF, myLVKNet, GW170817, eps=1e-4)"
   ]
  },
  {
   "cell_type": "markdown",
   "metadata": {},
   "source": [
    "#### Forecasted errors"
   ]
  },
  {
   "cell_type": "code",
   "execution_count": 42,
   "metadata": {},
   "outputs": [
    {
     "data": {
      "text/plain": [
       "array([37.25969785])"
      ]
     },
     "execution_count": 42,
     "metadata": {},
     "output_type": "execute_result"
    }
   ],
   "source": [
    "# Forecast error on dL in Mpc\n",
    "# Observed value is 40 +7 -15\n",
    "\n",
    "onp.sqrt(Cov[1, 1])*(0.04)*1000"
   ]
  },
  {
   "cell_type": "code",
   "execution_count": 35,
   "metadata": {},
   "outputs": [
    {
     "data": {
      "text/plain": [
       "array([37.25969785])"
      ]
     },
     "execution_count": 35,
     "metadata": {},
     "output_type": "execute_result"
    }
   ],
   "source": [
    "onp.sqrt(Cov_dL[1, 1])*1000"
   ]
  },
  {
   "cell_type": "code",
   "execution_count": 45,
   "metadata": {},
   "outputs": [
    {
     "data": {
      "text/plain": [
       "array([48.28499086])"
      ]
     },
     "execution_count": 45,
     "metadata": {},
     "output_type": "execute_result"
    }
   ],
   "source": [
    "# Forecasted 1 sigma localization area\n",
    "# Observed is 16 deg squared\n",
    "\n",
    "\n",
    "from fisherTools import compute_localization_region\n",
    "\n",
    "compute_localization_region(Cov_dL, parNums_dL, GW170817[\"theta\"], units='SqDeg')"
   ]
  },
  {
   "cell_type": "markdown",
   "metadata": {},
   "source": [
    "## Single ET"
   ]
  },
  {
   "cell_type": "markdown",
   "metadata": {},
   "source": [
    "### Configure the interforometer's properties"
   ]
  },
  {
   "cell_type": "code",
   "execution_count": 11,
   "metadata": {},
   "outputs": [],
   "source": [
    "# We use the positions of existing LVC detectors \n",
    "from GWfish.Globals import detectors as base_dets"
   ]
  },
  {
   "cell_type": "code",
   "execution_count": 12,
   "metadata": {},
   "outputs": [],
   "source": [
    "# Put a single ET at the Virgo site \n",
    "ETdet = {'ET': copy.deepcopy(base_dets).pop('Virgo') }"
   ]
  },
  {
   "cell_type": "code",
   "execution_count": 13,
   "metadata": {},
   "outputs": [],
   "source": [
    "ETdet['ET']['shape'] = 'T'\n",
    "ETdet['ET']['psd_path'] = os.path.join(glob.detPath, 'pycbc_public', 'et_d.txt')"
   ]
  },
  {
   "cell_type": "code",
   "execution_count": 14,
   "metadata": {},
   "outputs": [
    {
     "data": {
      "text/plain": [
       "{'ET': {'lat': 43.631,\n",
       "  'long': 10.504,\n",
       "  'xax': 71.0,\n",
       "  'shape': 'T',\n",
       "  'psd_path': '/Users/Michi/Dropbox/Local/Physics_projects/GWfish/psds/pycbc_public/et_d.txt'}}"
      ]
     },
     "execution_count": 14,
     "metadata": {},
     "output_type": "execute_result"
    }
   ],
   "source": [
    "ETdet"
   ]
  },
  {
   "cell_type": "markdown",
   "metadata": {},
   "source": [
    "### Build the DetNet object"
   ]
  },
  {
   "cell_type": "code",
   "execution_count": 15,
   "metadata": {},
   "outputs": [],
   "source": [
    "from GWfish.waveforms import ReducedPN_TaylorF2_BNS\n",
    "from GWfish.signal import GWSignal\n",
    "from GWfish.network import DetNet"
   ]
  },
  {
   "cell_type": "code",
   "execution_count": 16,
   "metadata": {},
   "outputs": [
    {
     "name": "stdout",
     "output_type": "stream",
     "text": [
      "Using PSD from file /Users/Michi/Dropbox/Local/Physics_projects/GWfish/psds/pycbc_public/et_d.txt \n"
     ]
    }
   ],
   "source": [
    "mySignalsET = {}\n",
    "\n",
    "for d in ETdet.keys():\n",
    "\n",
    "    mySignalsET[d] = GWSignal( ReducedPN_TaylorF2_BNS(), \n",
    "                psd_path= ETdet[d]['psd_path'],\n",
    "                detector_shape = ETdet[d]['shape'],\n",
    "                det_lat= ETdet[d]['lat'],\n",
    "                det_long=ETdet[d]['long'],\n",
    "                det_xax=ETdet[d]['xax'], \n",
    "                verbose=True,\n",
    "                useEarthMotion = True,\n",
    "                fmin=2.,\n",
    "                IntTablePath=None) \n",
    "        #os.path.join('../data/New_ET_Curves_11-16/ASD_ETtest/HFLF_cryo/', 'Integral_Tables', 'NewtInspiralBNS200.h5'))\n",
    "\n",
    "        \n",
    "\n",
    "myNet = DetNet(mySignalsET) "
   ]
  },
  {
   "cell_type": "code",
   "execution_count": 23,
   "metadata": {},
   "outputs": [],
   "source": [
    "from GWfish.tests.test_inversion import sample1d, z_from_dLGW, Om0GLOB\n",
    "H0fid = 70\n",
    "Omfid = Om0GLOB\n",
    "Xi0fid = 1.\n",
    "nFid = 0."
   ]
  },
  {
   "cell_type": "code",
   "execution_count": 27,
   "metadata": {},
   "outputs": [],
   "source": [
    "nevents=500\n",
    "\n",
    "\n",
    "dLs = sample1d(nevents, lambda x: x**2, 1e-05, 6.6, )\n",
    "    \n",
    "zs = z_from_dLGW(dLs*1000, H0fid, Xi0fid, nFid)\n",
    "    \n",
    "Mcs = onp.random.uniform(1., 3., nevents)\n",
    "    \n",
    "events_rand = {'Mc': Mcs*(1.+zs), \n",
    "              'dL': dLs, \n",
    "              'theta':onp.random.uniform(-onp.pi/2, onp.pi/2, nevents), \n",
    "              'phi':onp.random.uniform(0, onp.pi*2, nevents), \n",
    "             'iota':onp.random.uniform(0, onp.pi*2, nevents), \n",
    "              'psi':onp.random.uniform(0, onp.pi*2, nevents), \n",
    "              'tcoal':onp.random.uniform(0, 1, nevents), \n",
    "              'eta': onp.random.uniform(0.24, 0.25, nevents), \n",
    "              'Phicoal': onp.random.uniform(0, onp.pi*2, nevents)\n",
    "             }"
   ]
  },
  {
   "cell_type": "code",
   "execution_count": 28,
   "metadata": {},
   "outputs": [
    {
     "name": "stdout",
     "output_type": "stream",
     "text": [
      "CPU times: user 3.83 s, sys: 274 ms, total: 4.1 s\n",
      "Wall time: 3.57 s\n"
     ]
    }
   ],
   "source": [
    "%%time\n",
    "snrs = myNet.SNR(events_rand)"
   ]
  },
  {
   "cell_type": "code",
   "execution_count": null,
   "metadata": {},
   "outputs": [
    {
     "name": "stdout",
     "output_type": "stream",
     "text": [
      "\n",
      "Computing Fisher for ET...\n"
     ]
    }
   ],
   "source": [
    "%%time\n",
    "totF = myNet.FisherMatr(events_rand, res=1000)"
   ]
  },
  {
   "cell_type": "code",
   "execution_count": null,
   "metadata": {},
   "outputs": [],
   "source": []
  }
 ],
 "metadata": {
  "kernelspec": {
   "display_name": "Python 3",
   "language": "python",
   "name": "python3"
  },
  "language_info": {
   "codemirror_mode": {
    "name": "ipython",
    "version": 3
   },
   "file_extension": ".py",
   "mimetype": "text/x-python",
   "name": "python",
   "nbconvert_exporter": "python",
   "pygments_lexer": "ipython3",
   "version": "3.7.9"
  }
 },
 "nbformat": 4,
 "nbformat_minor": 4
}
