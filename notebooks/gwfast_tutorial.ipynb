{
 "cells": [
  {
   "cell_type": "code",
   "execution_count": 1,
   "metadata": {},
   "outputs": [],
   "source": [
    "import os\n",
    "import sys\n",
    "\n",
    "import copy\n",
    "import numpy as onp\n",
    "from astropy.cosmology import Planck18\n",
    "\n",
    "PACKAGE_PARENT = '..'\n",
    "SCRIPT_DIR = os.path.dirname(os.path.realpath(os.path.join(os.getcwd())))\n",
    "sys.path.append(SCRIPT_DIR)\n"
   ]
  },
  {
   "cell_type": "code",
   "execution_count": 3,
   "metadata": {},
   "outputs": [],
   "source": [
    "import gwfast.fisherGlobals as glob"
   ]
  },
  {
   "cell_type": "markdown",
   "metadata": {},
   "source": [
    "## COMPLETE EXAMPLE: GW170817"
   ]
  },
  {
   "cell_type": "markdown",
   "metadata": {},
   "source": [
    "###  We use the positions of existing LVC detectors"
   ]
  },
  {
   "cell_type": "code",
   "execution_count": 4,
   "metadata": {},
   "outputs": [
    {
     "name": "stdout",
     "output_type": "stream",
     "text": [
      "All available detectors are: ['L1', 'H1', 'Virgo', 'KAGRA', 'LIGOI', 'ETS', 'ETMR', 'CE1Id', 'CE2NM', 'CE2NSW']\n",
      "Using detectors ['L1', 'H1', 'Virgo']\n"
     ]
    }
   ],
   "source": [
    "alldetectors = copy.deepcopy(glob.detectors)\n",
    "print('All available detectors are: '+str(list(alldetectors.keys())))\n",
    "\n",
    "# select only LIGO and Virgo\n",
    "LVdetectors = {det:alldetectors[det] for det in ['L1', 'H1', 'Virgo']}\n",
    "print('Using detectors '+str(list(LVdetectors.keys())))\n"
   ]
  },
  {
   "cell_type": "code",
   "execution_count": 5,
   "metadata": {},
   "outputs": [],
   "source": [
    "# We use the O2 psds\n",
    "LVdetectors['L1']['psd_path'] = os.path.join(glob.detPath, 'LVC_O1O2O3', '2017-08-06_DCH_C02_L1_O2_Sensitivity_strain_asd.txt')\n",
    "LVdetectors['H1']['psd_path'] = os.path.join(glob.detPath, 'LVC_O1O2O3', '2017-06-10_DCH_C02_H1_O2_Sensitivity_strain_asd.txt')\n",
    "LVdetectors['Virgo']['psd_path'] = os.path.join(glob.detPath, 'LVC_O1O2O3', 'Hrec_hoft_V1O2Repro2A_16384Hz.txt')\n"
   ]
  },
  {
   "cell_type": "code",
   "execution_count": 7,
   "metadata": {},
   "outputs": [
    {
     "name": "stderr",
     "output_type": "stream",
     "text": [
      "WARNING:absl:No GPU/TPU found, falling back to CPU. (Set TF_CPP_MIN_LOG_LEVEL=0 and rerun for more info.)\n"
     ]
    }
   ],
   "source": [
    "from gwfast.waveforms import IMRPhenomD_NRTidalv2\n",
    "from gwfast.signal import GWSignal\n",
    "from gwfast.network import DetNet\n",
    "from fisherTools import CovMatr, compute_localization_region, check_covariance, fixParams\n"
   ]
  },
  {
   "cell_type": "markdown",
   "metadata": {},
   "source": [
    "### Initialise the signals and then the network"
   ]
  },
  {
   "cell_type": "code",
   "execution_count": 8,
   "metadata": {},
   "outputs": [
    {
     "name": "stdout",
     "output_type": "stream",
     "text": [
      "Using ASD from file /Users/Michi/Dropbox/Local/Physics_projects/gwfast/psds/LVC_O1O2O3/2017-08-06_DCH_C02_L1_O2_Sensitivity_strain_asd.txt \n",
      "WARNING: the motion of Earth gives a relevant contribution for BNS signals, consider switching it on\n",
      "Initializing jax...\n",
      "Jax local device count: 8\n",
      "Jax  device count: 8\n",
      "Using ASD from file /Users/Michi/Dropbox/Local/Physics_projects/gwfast/psds/LVC_O1O2O3/2017-06-10_DCH_C02_H1_O2_Sensitivity_strain_asd.txt \n",
      "WARNING: the motion of Earth gives a relevant contribution for BNS signals, consider switching it on\n",
      "Initializing jax...\n",
      "Jax local device count: 8\n",
      "Jax  device count: 8\n",
      "Using ASD from file /Users/Michi/Dropbox/Local/Physics_projects/gwfast/psds/LVC_O1O2O3/Hrec_hoft_V1O2Repro2A_16384Hz.txt \n",
      "WARNING: the motion of Earth gives a relevant contribution for BNS signals, consider switching it on\n",
      "Initializing jax...\n",
      "Jax local device count: 8\n",
      "Jax  device count: 8\n"
     ]
    }
   ],
   "source": [
    "\n",
    "myLVSignals = {}\n",
    "\n",
    "for d in LVdetectors.keys():\n",
    "\n",
    "    myLVSignals[d] = GWSignal(IMRPhenomD_NRTidalv2(), \n",
    "                psd_path=LVdetectors[d]['psd_path'],\n",
    "                detector_shape = LVdetectors[d]['shape'],\n",
    "                det_lat= LVdetectors[d]['lat'],\n",
    "                det_long=LVdetectors[d]['long'],\n",
    "                det_xax=LVdetectors[d]['xax'], \n",
    "                verbose=True,\n",
    "                useEarthMotion = False,\n",
    "                fmin=10.,\n",
    "                IntTablePath=None) \n",
    "        \n",
    "myLVNet = DetNet(myLVSignals)      "
   ]
  },
  {
   "cell_type": "code",
   "execution_count": 9,
   "metadata": {},
   "outputs": [
    {
     "ename": "ValueError",
     "evalue": "Column year failed to convert: invalid literal for int() with base 10: '<!'",
     "output_type": "error",
     "traceback": [
      "\u001b[0;31m---------------------------------------------------------------------------\u001b[0m",
      "\u001b[0;31mIndexError\u001b[0m                                Traceback (most recent call last)",
      "\u001b[0;32m~/opt/miniconda3/envs/Michi1/lib/python3.7/site-packages/astropy/io/ascii/core.py\u001b[0m in \u001b[0;36m_convert_vals\u001b[0;34m(self, cols)\u001b[0m\n\u001b[1;32m   1015\u001b[0m                 \u001b[0;32mtry\u001b[0m\u001b[0;34m:\u001b[0m\u001b[0;34m\u001b[0m\u001b[0;34m\u001b[0m\u001b[0m\n\u001b[0;32m-> 1016\u001b[0;31m                     \u001b[0mconverter_func\u001b[0m\u001b[0;34m,\u001b[0m \u001b[0mconverter_type\u001b[0m \u001b[0;34m=\u001b[0m \u001b[0mcol\u001b[0m\u001b[0;34m.\u001b[0m\u001b[0mconverters\u001b[0m\u001b[0;34m[\u001b[0m\u001b[0;36m0\u001b[0m\u001b[0;34m]\u001b[0m\u001b[0;34m\u001b[0m\u001b[0;34m\u001b[0m\u001b[0m\n\u001b[0m\u001b[1;32m   1017\u001b[0m                     \u001b[0;32mif\u001b[0m \u001b[0;32mnot\u001b[0m \u001b[0missubclass\u001b[0m\u001b[0;34m(\u001b[0m\u001b[0mconverter_type\u001b[0m\u001b[0;34m,\u001b[0m \u001b[0mcol\u001b[0m\u001b[0;34m.\u001b[0m\u001b[0mtype\u001b[0m\u001b[0;34m)\u001b[0m\u001b[0;34m:\u001b[0m\u001b[0;34m\u001b[0m\u001b[0;34m\u001b[0m\u001b[0m\n",
      "\u001b[0;31mIndexError\u001b[0m: list index out of range",
      "\nDuring handling of the above exception, another exception occurred:\n",
      "\u001b[0;31mValueError\u001b[0m                                Traceback (most recent call last)",
      "\u001b[0;32m/var/folders/7z/9fmsdymn6d9czjwbfxrddkrw0000gp/T/ipykernel_18507/2009194378.py\u001b[0m in \u001b[0;36m<module>\u001b[0;34m\u001b[0m\n\u001b[1;32m     13\u001b[0m             \u001b[0;34m'iota'\u001b[0m\u001b[0;34m:\u001b[0m\u001b[0monp\u001b[0m\u001b[0;34m.\u001b[0m\u001b[0marray\u001b[0m\u001b[0;34m(\u001b[0m\u001b[0;34m[\u001b[0m\u001b[0;36m2.545065595974997\u001b[0m\u001b[0;34m]\u001b[0m\u001b[0;34m)\u001b[0m\u001b[0;34m,\u001b[0m\u001b[0;34m\u001b[0m\u001b[0;34m\u001b[0m\u001b[0m\n\u001b[1;32m     14\u001b[0m             \u001b[0;34m'psi'\u001b[0m\u001b[0;34m:\u001b[0m\u001b[0monp\u001b[0m\u001b[0;34m.\u001b[0m\u001b[0marray\u001b[0m\u001b[0;34m(\u001b[0m\u001b[0;34m[\u001b[0m\u001b[0;36m0.\u001b[0m\u001b[0;34m]\u001b[0m\u001b[0;34m)\u001b[0m\u001b[0;34m,\u001b[0m\u001b[0;34m\u001b[0m\u001b[0;34m\u001b[0m\u001b[0m\n\u001b[0;32m---> 15\u001b[0;31m             \u001b[0;34m'tcoal'\u001b[0m\u001b[0;34m:\u001b[0m\u001b[0mGPSt_to_LMST\u001b[0m\u001b[0;34m(\u001b[0m\u001b[0mtGPS\u001b[0m\u001b[0;34m,\u001b[0m \u001b[0mlat\u001b[0m\u001b[0;34m=\u001b[0m\u001b[0;36m0.\u001b[0m\u001b[0;34m,\u001b[0m \u001b[0mlong\u001b[0m\u001b[0;34m=\u001b[0m\u001b[0;36m0.\u001b[0m\u001b[0;34m)\u001b[0m\u001b[0;34m,\u001b[0m \u001b[0;31m# GMST is LMST computed at long = 0°\u001b[0m\u001b[0;34m\u001b[0m\u001b[0;34m\u001b[0m\u001b[0m\n\u001b[0m\u001b[1;32m     16\u001b[0m             \u001b[0;34m'eta'\u001b[0m\u001b[0;34m:\u001b[0m\u001b[0monp\u001b[0m\u001b[0;34m.\u001b[0m\u001b[0marray\u001b[0m\u001b[0;34m(\u001b[0m\u001b[0;34m[\u001b[0m\u001b[0;36m0.24786618323504223\u001b[0m\u001b[0;34m]\u001b[0m\u001b[0;34m)\u001b[0m\u001b[0;34m,\u001b[0m\u001b[0;34m\u001b[0m\u001b[0;34m\u001b[0m\u001b[0m\n\u001b[1;32m     17\u001b[0m             \u001b[0;34m'Phicoal'\u001b[0m\u001b[0;34m:\u001b[0m\u001b[0monp\u001b[0m\u001b[0;34m.\u001b[0m\u001b[0marray\u001b[0m\u001b[0;34m(\u001b[0m\u001b[0;34m[\u001b[0m\u001b[0;36m0.\u001b[0m\u001b[0;34m]\u001b[0m\u001b[0;34m)\u001b[0m\u001b[0;34m,\u001b[0m\u001b[0;34m\u001b[0m\u001b[0;34m\u001b[0m\u001b[0m\n",
      "\u001b[0;32m~/Dropbox/Local/Physics_projects/gwfast/gwfast/gwfastUtils.py\u001b[0m in \u001b[0;36mGPSt_to_LMST\u001b[0;34m(t_GPS, lat, long)\u001b[0m\n\u001b[1;32m    212\u001b[0m   \u001b[0mloc\u001b[0m \u001b[0;34m=\u001b[0m \u001b[0mEarthLocation\u001b[0m\u001b[0;34m(\u001b[0m\u001b[0mlat\u001b[0m\u001b[0;34m=\u001b[0m\u001b[0mlat\u001b[0m\u001b[0;34m*\u001b[0m\u001b[0mu\u001b[0m\u001b[0;34m.\u001b[0m\u001b[0mdeg\u001b[0m\u001b[0;34m,\u001b[0m \u001b[0mlon\u001b[0m\u001b[0;34m=\u001b[0m\u001b[0mlong\u001b[0m\u001b[0;34m*\u001b[0m\u001b[0mu\u001b[0m\u001b[0;34m.\u001b[0m\u001b[0mdeg\u001b[0m\u001b[0;34m)\u001b[0m\u001b[0;34m\u001b[0m\u001b[0;34m\u001b[0m\u001b[0m\n\u001b[1;32m    213\u001b[0m   \u001b[0mt\u001b[0m \u001b[0;34m=\u001b[0m \u001b[0maspyt\u001b[0m\u001b[0;34m.\u001b[0m\u001b[0mTime\u001b[0m\u001b[0;34m(\u001b[0m\u001b[0mt_GPS\u001b[0m\u001b[0;34m,\u001b[0m \u001b[0mformat\u001b[0m\u001b[0;34m=\u001b[0m\u001b[0;34m'gps'\u001b[0m\u001b[0;34m,\u001b[0m \u001b[0mlocation\u001b[0m\u001b[0;34m=\u001b[0m\u001b[0;34m(\u001b[0m\u001b[0mloc\u001b[0m\u001b[0;34m)\u001b[0m\u001b[0;34m)\u001b[0m\u001b[0;34m\u001b[0m\u001b[0;34m\u001b[0m\u001b[0m\n\u001b[0;32m--> 214\u001b[0;31m   \u001b[0mLMST\u001b[0m \u001b[0;34m=\u001b[0m \u001b[0mt\u001b[0m\u001b[0;34m.\u001b[0m\u001b[0msidereal_time\u001b[0m\u001b[0;34m(\u001b[0m\u001b[0;34m'mean'\u001b[0m\u001b[0;34m)\u001b[0m\u001b[0;34m.\u001b[0m\u001b[0mvalue\u001b[0m\u001b[0;34m\u001b[0m\u001b[0;34m\u001b[0m\u001b[0m\n\u001b[0m\u001b[1;32m    215\u001b[0m   \u001b[0;32mreturn\u001b[0m \u001b[0mjnp\u001b[0m\u001b[0;34m.\u001b[0m\u001b[0marray\u001b[0m\u001b[0;34m(\u001b[0m\u001b[0mLMST\u001b[0m\u001b[0;34m/\u001b[0m\u001b[0;36m24.\u001b[0m\u001b[0;34m)\u001b[0m\u001b[0;34m\u001b[0m\u001b[0;34m\u001b[0m\u001b[0m\n\u001b[1;32m    216\u001b[0m \u001b[0;34m\u001b[0m\u001b[0m\n",
      "\u001b[0;32m~/opt/miniconda3/envs/Michi1/lib/python3.7/site-packages/astropy/time/core.py\u001b[0m in \u001b[0;36msidereal_time\u001b[0;34m(self, kind, longitude, model)\u001b[0m\n\u001b[1;32m   1832\u001b[0m                                   wrap_angle=180. * u.degree)\n\u001b[1;32m   1833\u001b[0m \u001b[0;34m\u001b[0m\u001b[0m\n\u001b[0;32m-> 1834\u001b[0;31m         \u001b[0mgst\u001b[0m \u001b[0;34m=\u001b[0m \u001b[0mself\u001b[0m\u001b[0;34m.\u001b[0m\u001b[0m_erfa_sidereal_time\u001b[0m\u001b[0;34m(\u001b[0m\u001b[0mavailable_models\u001b[0m\u001b[0;34m[\u001b[0m\u001b[0mmodel\u001b[0m\u001b[0;34m.\u001b[0m\u001b[0mupper\u001b[0m\u001b[0;34m(\u001b[0m\u001b[0;34m)\u001b[0m\u001b[0;34m]\u001b[0m\u001b[0;34m)\u001b[0m\u001b[0;34m\u001b[0m\u001b[0;34m\u001b[0m\u001b[0m\n\u001b[0m\u001b[1;32m   1835\u001b[0m         \u001b[0;32mreturn\u001b[0m \u001b[0mLongitude\u001b[0m\u001b[0;34m(\u001b[0m\u001b[0mgst\u001b[0m \u001b[0;34m+\u001b[0m \u001b[0mlongitude\u001b[0m\u001b[0;34m,\u001b[0m \u001b[0mu\u001b[0m\u001b[0;34m.\u001b[0m\u001b[0mhourangle\u001b[0m\u001b[0;34m)\u001b[0m\u001b[0;34m\u001b[0m\u001b[0;34m\u001b[0m\u001b[0m\n\u001b[1;32m   1836\u001b[0m \u001b[0;34m\u001b[0m\u001b[0m\n",
      "\u001b[0;32m~/opt/miniconda3/envs/Michi1/lib/python3.7/site-packages/astropy/time/core.py\u001b[0m in \u001b[0;36m_erfa_sidereal_time\u001b[0;34m(self, model)\u001b[0m\n\u001b[1;32m   1847\u001b[0m         \u001b[0merfa_function\u001b[0m \u001b[0;34m=\u001b[0m \u001b[0mmodel\u001b[0m\u001b[0;34m[\u001b[0m\u001b[0;34m'function'\u001b[0m\u001b[0;34m]\u001b[0m\u001b[0;34m\u001b[0m\u001b[0;34m\u001b[0m\u001b[0m\n\u001b[1;32m   1848\u001b[0m         erfa_parameters = [getattr(getattr(self, scale)._time, jd_part)\n\u001b[0;32m-> 1849\u001b[0;31m                            \u001b[0;32mfor\u001b[0m \u001b[0mscale\u001b[0m \u001b[0;32min\u001b[0m \u001b[0mmodel\u001b[0m\u001b[0;34m[\u001b[0m\u001b[0;34m'scales'\u001b[0m\u001b[0;34m]\u001b[0m\u001b[0;34m\u001b[0m\u001b[0;34m\u001b[0m\u001b[0m\n\u001b[0m\u001b[1;32m   1850\u001b[0m                            for jd_part in ('jd1', 'jd2_filled')]\n\u001b[1;32m   1851\u001b[0m \u001b[0;34m\u001b[0m\u001b[0m\n",
      "\u001b[0;32m~/opt/miniconda3/envs/Michi1/lib/python3.7/site-packages/astropy/time/core.py\u001b[0m in \u001b[0;36m<listcomp>\u001b[0;34m(.0)\u001b[0m\n\u001b[1;32m   1848\u001b[0m         erfa_parameters = [getattr(getattr(self, scale)._time, jd_part)\n\u001b[1;32m   1849\u001b[0m                            \u001b[0;32mfor\u001b[0m \u001b[0mscale\u001b[0m \u001b[0;32min\u001b[0m \u001b[0mmodel\u001b[0m\u001b[0;34m[\u001b[0m\u001b[0;34m'scales'\u001b[0m\u001b[0;34m]\u001b[0m\u001b[0;34m\u001b[0m\u001b[0;34m\u001b[0m\u001b[0m\n\u001b[0;32m-> 1850\u001b[0;31m                            for jd_part in ('jd1', 'jd2_filled')]\n\u001b[0m\u001b[1;32m   1851\u001b[0m \u001b[0;34m\u001b[0m\u001b[0m\n\u001b[1;32m   1852\u001b[0m         \u001b[0msidereal_time\u001b[0m \u001b[0;34m=\u001b[0m \u001b[0merfa_function\u001b[0m\u001b[0;34m(\u001b[0m\u001b[0;34m*\u001b[0m\u001b[0merfa_parameters\u001b[0m\u001b[0;34m)\u001b[0m\u001b[0;34m\u001b[0m\u001b[0;34m\u001b[0m\u001b[0m\n",
      "\u001b[0;32m~/opt/miniconda3/envs/Michi1/lib/python3.7/site-packages/astropy/time/core.py\u001b[0m in \u001b[0;36m__getattr__\u001b[0;34m(self, attr)\u001b[0m\n\u001b[1;32m   1320\u001b[0m                 \u001b[0;32melse\u001b[0m\u001b[0;34m:\u001b[0m\u001b[0;34m\u001b[0m\u001b[0;34m\u001b[0m\u001b[0m\n\u001b[1;32m   1321\u001b[0m                     \u001b[0mtm\u001b[0m \u001b[0;34m=\u001b[0m \u001b[0mself\u001b[0m\u001b[0;34m.\u001b[0m\u001b[0mreplicate\u001b[0m\u001b[0;34m(\u001b[0m\u001b[0;34m)\u001b[0m\u001b[0;34m\u001b[0m\u001b[0;34m\u001b[0m\u001b[0m\n\u001b[0;32m-> 1322\u001b[0;31m                     \u001b[0mtm\u001b[0m\u001b[0;34m.\u001b[0m\u001b[0m_set_scale\u001b[0m\u001b[0;34m(\u001b[0m\u001b[0mattr\u001b[0m\u001b[0;34m)\u001b[0m\u001b[0;34m\u001b[0m\u001b[0;34m\u001b[0m\u001b[0m\n\u001b[0m\u001b[1;32m   1323\u001b[0m                     \u001b[0;32mif\u001b[0m \u001b[0mtm\u001b[0m\u001b[0;34m.\u001b[0m\u001b[0mshape\u001b[0m\u001b[0;34m:\u001b[0m\u001b[0;34m\u001b[0m\u001b[0;34m\u001b[0m\u001b[0m\n\u001b[1;32m   1324\u001b[0m                         \u001b[0;31m# Prevent future modification of cached array-like object\u001b[0m\u001b[0;34m\u001b[0m\u001b[0;34m\u001b[0m\u001b[0;34m\u001b[0m\u001b[0m\n",
      "\u001b[0;32m~/opt/miniconda3/envs/Michi1/lib/python3.7/site-packages/astropy/time/core.py\u001b[0m in \u001b[0;36m_set_scale\u001b[0;34m(self, scale)\u001b[0m\n\u001b[1;32m    567\u001b[0m                     \u001b[0;32mpass\u001b[0m\u001b[0;34m\u001b[0m\u001b[0;34m\u001b[0m\u001b[0m\n\u001b[1;32m    568\u001b[0m                 \u001b[0;32melse\u001b[0m\u001b[0;34m:\u001b[0m\u001b[0;34m\u001b[0m\u001b[0;34m\u001b[0m\u001b[0m\n\u001b[0;32m--> 569\u001b[0;31m                     \u001b[0margs\u001b[0m\u001b[0;34m.\u001b[0m\u001b[0mappend\u001b[0m\u001b[0;34m(\u001b[0m\u001b[0mget_dt\u001b[0m\u001b[0;34m(\u001b[0m\u001b[0mjd1\u001b[0m\u001b[0;34m,\u001b[0m \u001b[0mjd2\u001b[0m\u001b[0;34m)\u001b[0m\u001b[0;34m)\u001b[0m\u001b[0;34m\u001b[0m\u001b[0;34m\u001b[0m\u001b[0m\n\u001b[0m\u001b[1;32m    570\u001b[0m                     \u001b[0;32mbreak\u001b[0m\u001b[0;34m\u001b[0m\u001b[0;34m\u001b[0m\u001b[0m\n\u001b[1;32m    571\u001b[0m \u001b[0;34m\u001b[0m\u001b[0m\n",
      "\u001b[0;32m~/opt/miniconda3/envs/Michi1/lib/python3.7/site-packages/astropy/time/core.py\u001b[0m in \u001b[0;36m_get_delta_ut1_utc\u001b[0;34m(self, jd1, jd2)\u001b[0m\n\u001b[1;32m   1917\u001b[0m         \u001b[0;32mif\u001b[0m \u001b[0;32mnot\u001b[0m \u001b[0mhasattr\u001b[0m\u001b[0;34m(\u001b[0m\u001b[0mself\u001b[0m\u001b[0;34m,\u001b[0m \u001b[0;34m'_delta_ut1_utc'\u001b[0m\u001b[0;34m)\u001b[0m\u001b[0;34m:\u001b[0m\u001b[0;34m\u001b[0m\u001b[0;34m\u001b[0m\u001b[0m\n\u001b[1;32m   1918\u001b[0m             \u001b[0;32mfrom\u001b[0m \u001b[0mastropy\u001b[0m\u001b[0;34m.\u001b[0m\u001b[0mutils\u001b[0m\u001b[0;34m.\u001b[0m\u001b[0miers\u001b[0m \u001b[0;32mimport\u001b[0m \u001b[0mearth_orientation_table\u001b[0m\u001b[0;34m\u001b[0m\u001b[0;34m\u001b[0m\u001b[0m\n\u001b[0;32m-> 1919\u001b[0;31m             \u001b[0miers_table\u001b[0m \u001b[0;34m=\u001b[0m \u001b[0mearth_orientation_table\u001b[0m\u001b[0;34m.\u001b[0m\u001b[0mget\u001b[0m\u001b[0;34m(\u001b[0m\u001b[0;34m)\u001b[0m\u001b[0;34m\u001b[0m\u001b[0;34m\u001b[0m\u001b[0m\n\u001b[0m\u001b[1;32m   1920\u001b[0m             \u001b[0;31m# jd1, jd2 are normally set (see above), except if delta_ut1_utc\u001b[0m\u001b[0;34m\u001b[0m\u001b[0;34m\u001b[0m\u001b[0;34m\u001b[0m\u001b[0m\n\u001b[1;32m   1921\u001b[0m             \u001b[0;31m# is access directly; ensure we behave as expected for that case\u001b[0m\u001b[0;34m\u001b[0m\u001b[0;34m\u001b[0m\u001b[0;34m\u001b[0m\u001b[0m\n",
      "\u001b[0;32m~/opt/miniconda3/envs/Michi1/lib/python3.7/site-packages/astropy/utils/state.py\u001b[0m in \u001b[0;36mget\u001b[0;34m(cls)\u001b[0m\n\u001b[1;32m     38\u001b[0m         \u001b[0mGet\u001b[0m \u001b[0mthe\u001b[0m \u001b[0mcurrent\u001b[0m \u001b[0mscience\u001b[0m \u001b[0mstate\u001b[0m \u001b[0mvalue\u001b[0m\u001b[0;34m.\u001b[0m\u001b[0;34m\u001b[0m\u001b[0;34m\u001b[0m\u001b[0m\n\u001b[1;32m     39\u001b[0m         \"\"\"\n\u001b[0;32m---> 40\u001b[0;31m         \u001b[0;32mreturn\u001b[0m \u001b[0mcls\u001b[0m\u001b[0;34m.\u001b[0m\u001b[0mvalidate\u001b[0m\u001b[0;34m(\u001b[0m\u001b[0mcls\u001b[0m\u001b[0;34m.\u001b[0m\u001b[0m_value\u001b[0m\u001b[0;34m)\u001b[0m\u001b[0;34m\u001b[0m\u001b[0;34m\u001b[0m\u001b[0m\n\u001b[0m\u001b[1;32m     41\u001b[0m \u001b[0;34m\u001b[0m\u001b[0m\n\u001b[1;32m     42\u001b[0m     \u001b[0;34m@\u001b[0m\u001b[0mclassmethod\u001b[0m\u001b[0;34m\u001b[0m\u001b[0;34m\u001b[0m\u001b[0m\n",
      "\u001b[0;32m~/opt/miniconda3/envs/Michi1/lib/python3.7/site-packages/astropy/utils/iers/iers.py\u001b[0m in \u001b[0;36mvalidate\u001b[0;34m(cls, value)\u001b[0m\n\u001b[1;32m    851\u001b[0m     \u001b[0;32mdef\u001b[0m \u001b[0mvalidate\u001b[0m\u001b[0;34m(\u001b[0m\u001b[0mcls\u001b[0m\u001b[0;34m,\u001b[0m \u001b[0mvalue\u001b[0m\u001b[0;34m)\u001b[0m\u001b[0;34m:\u001b[0m\u001b[0;34m\u001b[0m\u001b[0;34m\u001b[0m\u001b[0m\n\u001b[1;32m    852\u001b[0m         \u001b[0;32mif\u001b[0m \u001b[0mvalue\u001b[0m \u001b[0;32mis\u001b[0m \u001b[0;32mNone\u001b[0m\u001b[0;34m:\u001b[0m\u001b[0;34m\u001b[0m\u001b[0;34m\u001b[0m\u001b[0m\n\u001b[0;32m--> 853\u001b[0;31m             \u001b[0mvalue\u001b[0m \u001b[0;34m=\u001b[0m \u001b[0mIERS_Auto\u001b[0m\u001b[0;34m.\u001b[0m\u001b[0mopen\u001b[0m\u001b[0;34m(\u001b[0m\u001b[0;34m)\u001b[0m\u001b[0;34m\u001b[0m\u001b[0;34m\u001b[0m\u001b[0m\n\u001b[0m\u001b[1;32m    854\u001b[0m         \u001b[0;32mif\u001b[0m \u001b[0;32mnot\u001b[0m \u001b[0misinstance\u001b[0m\u001b[0;34m(\u001b[0m\u001b[0mvalue\u001b[0m\u001b[0;34m,\u001b[0m \u001b[0mIERS\u001b[0m\u001b[0;34m)\u001b[0m\u001b[0;34m:\u001b[0m\u001b[0;34m\u001b[0m\u001b[0;34m\u001b[0m\u001b[0m\n\u001b[1;32m    855\u001b[0m             \u001b[0;32mraise\u001b[0m \u001b[0mValueError\u001b[0m\u001b[0;34m(\u001b[0m\u001b[0;34m\"earth_orientation_table requires an IERS Table.\"\u001b[0m\u001b[0;34m)\u001b[0m\u001b[0;34m\u001b[0m\u001b[0;34m\u001b[0m\u001b[0m\n",
      "\u001b[0;32m~/opt/miniconda3/envs/Michi1/lib/python3.7/site-packages/astropy/utils/iers/iers.py\u001b[0m in \u001b[0;36mopen\u001b[0;34m(cls)\u001b[0m\n\u001b[1;32m    683\u001b[0m             \u001b[0;32mreturn\u001b[0m \u001b[0mcls\u001b[0m\u001b[0;34m.\u001b[0m\u001b[0miers_table\u001b[0m\u001b[0;34m\u001b[0m\u001b[0;34m\u001b[0m\u001b[0m\n\u001b[1;32m    684\u001b[0m \u001b[0;34m\u001b[0m\u001b[0m\n\u001b[0;32m--> 685\u001b[0;31m         \u001b[0mcls\u001b[0m\u001b[0;34m.\u001b[0m\u001b[0miers_table\u001b[0m \u001b[0;34m=\u001b[0m \u001b[0mcls\u001b[0m\u001b[0;34m.\u001b[0m\u001b[0mread\u001b[0m\u001b[0;34m(\u001b[0m\u001b[0mfile\u001b[0m\u001b[0;34m=\u001b[0m\u001b[0mfilename\u001b[0m\u001b[0;34m)\u001b[0m\u001b[0;34m\u001b[0m\u001b[0;34m\u001b[0m\u001b[0m\n\u001b[0m\u001b[1;32m    686\u001b[0m         \u001b[0mcls\u001b[0m\u001b[0;34m.\u001b[0m\u001b[0miers_table\u001b[0m\u001b[0;34m.\u001b[0m\u001b[0mmeta\u001b[0m\u001b[0;34m[\u001b[0m\u001b[0;34m'data_url'\u001b[0m\u001b[0;34m]\u001b[0m \u001b[0;34m=\u001b[0m \u001b[0mall_urls\u001b[0m\u001b[0;34m[\u001b[0m\u001b[0;36m0\u001b[0m\u001b[0;34m]\u001b[0m\u001b[0;34m\u001b[0m\u001b[0;34m\u001b[0m\u001b[0m\n\u001b[1;32m    687\u001b[0m \u001b[0;34m\u001b[0m\u001b[0m\n",
      "\u001b[0;32m~/opt/miniconda3/envs/Michi1/lib/python3.7/site-packages/astropy/utils/iers/iers.py\u001b[0m in \u001b[0;36mread\u001b[0;34m(cls, file, readme)\u001b[0m\n\u001b[1;32m    537\u001b[0m             \u001b[0mreadme\u001b[0m \u001b[0;34m=\u001b[0m \u001b[0mIERS_A_README\u001b[0m\u001b[0;34m\u001b[0m\u001b[0;34m\u001b[0m\u001b[0m\n\u001b[1;32m    538\u001b[0m \u001b[0;34m\u001b[0m\u001b[0m\n\u001b[0;32m--> 539\u001b[0;31m         \u001b[0miers_a\u001b[0m \u001b[0;34m=\u001b[0m \u001b[0msuper\u001b[0m\u001b[0;34m(\u001b[0m\u001b[0;34m)\u001b[0m\u001b[0;34m.\u001b[0m\u001b[0mread\u001b[0m\u001b[0;34m(\u001b[0m\u001b[0mfile\u001b[0m\u001b[0;34m,\u001b[0m \u001b[0mformat\u001b[0m\u001b[0;34m=\u001b[0m\u001b[0;34m'cds'\u001b[0m\u001b[0;34m,\u001b[0m \u001b[0mreadme\u001b[0m\u001b[0;34m=\u001b[0m\u001b[0mreadme\u001b[0m\u001b[0;34m)\u001b[0m\u001b[0;34m\u001b[0m\u001b[0;34m\u001b[0m\u001b[0m\n\u001b[0m\u001b[1;32m    540\u001b[0m \u001b[0;34m\u001b[0m\u001b[0m\n\u001b[1;32m    541\u001b[0m         \u001b[0;31m# Combine the A and B data for UT1-UTC and PM columns\u001b[0m\u001b[0;34m\u001b[0m\u001b[0;34m\u001b[0m\u001b[0;34m\u001b[0m\u001b[0m\n",
      "\u001b[0;32m~/opt/miniconda3/envs/Michi1/lib/python3.7/site-packages/astropy/table/connect.py\u001b[0m in \u001b[0;36m__call__\u001b[0;34m(self, *args, **kwargs)\u001b[0m\n\u001b[1;32m     59\u001b[0m         \u001b[0mdescriptions\u001b[0m \u001b[0;34m=\u001b[0m \u001b[0mkwargs\u001b[0m\u001b[0;34m.\u001b[0m\u001b[0mpop\u001b[0m\u001b[0;34m(\u001b[0m\u001b[0;34m'descriptions'\u001b[0m\u001b[0;34m,\u001b[0m \u001b[0;32mNone\u001b[0m\u001b[0;34m)\u001b[0m\u001b[0;34m\u001b[0m\u001b[0;34m\u001b[0m\u001b[0m\n\u001b[1;32m     60\u001b[0m \u001b[0;34m\u001b[0m\u001b[0m\n\u001b[0;32m---> 61\u001b[0;31m         \u001b[0mout\u001b[0m \u001b[0;34m=\u001b[0m \u001b[0mregistry\u001b[0m\u001b[0;34m.\u001b[0m\u001b[0mread\u001b[0m\u001b[0;34m(\u001b[0m\u001b[0mcls\u001b[0m\u001b[0;34m,\u001b[0m \u001b[0;34m*\u001b[0m\u001b[0margs\u001b[0m\u001b[0;34m,\u001b[0m \u001b[0;34m**\u001b[0m\u001b[0mkwargs\u001b[0m\u001b[0;34m)\u001b[0m\u001b[0;34m\u001b[0m\u001b[0;34m\u001b[0m\u001b[0m\n\u001b[0m\u001b[1;32m     62\u001b[0m \u001b[0;34m\u001b[0m\u001b[0m\n\u001b[1;32m     63\u001b[0m         \u001b[0;31m# For some readers (e.g., ascii.ecsv), the returned `out` class is not\u001b[0m\u001b[0;34m\u001b[0m\u001b[0;34m\u001b[0m\u001b[0;34m\u001b[0m\u001b[0m\n",
      "\u001b[0;32m~/opt/miniconda3/envs/Michi1/lib/python3.7/site-packages/astropy/io/registry.py\u001b[0m in \u001b[0;36mread\u001b[0;34m(cls, format, cache, *args, **kwargs)\u001b[0m\n\u001b[1;32m    518\u001b[0m \u001b[0;34m\u001b[0m\u001b[0m\n\u001b[1;32m    519\u001b[0m         \u001b[0mreader\u001b[0m \u001b[0;34m=\u001b[0m \u001b[0mget_reader\u001b[0m\u001b[0;34m(\u001b[0m\u001b[0mformat\u001b[0m\u001b[0;34m,\u001b[0m \u001b[0mcls\u001b[0m\u001b[0;34m)\u001b[0m\u001b[0;34m\u001b[0m\u001b[0;34m\u001b[0m\u001b[0m\n\u001b[0;32m--> 520\u001b[0;31m         \u001b[0mdata\u001b[0m \u001b[0;34m=\u001b[0m \u001b[0mreader\u001b[0m\u001b[0;34m(\u001b[0m\u001b[0;34m*\u001b[0m\u001b[0margs\u001b[0m\u001b[0;34m,\u001b[0m \u001b[0;34m**\u001b[0m\u001b[0mkwargs\u001b[0m\u001b[0;34m)\u001b[0m\u001b[0;34m\u001b[0m\u001b[0;34m\u001b[0m\u001b[0m\n\u001b[0m\u001b[1;32m    521\u001b[0m \u001b[0;34m\u001b[0m\u001b[0m\n\u001b[1;32m    522\u001b[0m         \u001b[0;32mif\u001b[0m \u001b[0;32mnot\u001b[0m \u001b[0misinstance\u001b[0m\u001b[0;34m(\u001b[0m\u001b[0mdata\u001b[0m\u001b[0;34m,\u001b[0m \u001b[0mcls\u001b[0m\u001b[0;34m)\u001b[0m\u001b[0;34m:\u001b[0m\u001b[0;34m\u001b[0m\u001b[0;34m\u001b[0m\u001b[0m\n",
      "\u001b[0;32m~/opt/miniconda3/envs/Michi1/lib/python3.7/site-packages/astropy/io/ascii/connect.py\u001b[0m in \u001b[0;36mio_read\u001b[0;34m(format, filename, **kwargs)\u001b[0m\n\u001b[1;32m     16\u001b[0m         \u001b[0mformat\u001b[0m \u001b[0;34m=\u001b[0m \u001b[0mre\u001b[0m\u001b[0;34m.\u001b[0m\u001b[0msub\u001b[0m\u001b[0;34m(\u001b[0m\u001b[0;34mr'^ascii\\.'\u001b[0m\u001b[0;34m,\u001b[0m \u001b[0;34m''\u001b[0m\u001b[0;34m,\u001b[0m \u001b[0mformat\u001b[0m\u001b[0;34m)\u001b[0m\u001b[0;34m\u001b[0m\u001b[0;34m\u001b[0m\u001b[0m\n\u001b[1;32m     17\u001b[0m         \u001b[0mkwargs\u001b[0m\u001b[0;34m[\u001b[0m\u001b[0;34m'format'\u001b[0m\u001b[0;34m]\u001b[0m \u001b[0;34m=\u001b[0m \u001b[0mformat\u001b[0m\u001b[0;34m\u001b[0m\u001b[0;34m\u001b[0m\u001b[0m\n\u001b[0;32m---> 18\u001b[0;31m     \u001b[0;32mreturn\u001b[0m \u001b[0mread\u001b[0m\u001b[0;34m(\u001b[0m\u001b[0mfilename\u001b[0m\u001b[0;34m,\u001b[0m \u001b[0;34m**\u001b[0m\u001b[0mkwargs\u001b[0m\u001b[0;34m)\u001b[0m\u001b[0;34m\u001b[0m\u001b[0;34m\u001b[0m\u001b[0m\n\u001b[0m\u001b[1;32m     19\u001b[0m \u001b[0;34m\u001b[0m\u001b[0m\n\u001b[1;32m     20\u001b[0m \u001b[0;34m\u001b[0m\u001b[0m\n",
      "\u001b[0;32m~/opt/miniconda3/envs/Michi1/lib/python3.7/site-packages/astropy/io/ascii/ui.py\u001b[0m in \u001b[0;36mread\u001b[0;34m(table, guess, **kwargs)\u001b[0m\n\u001b[1;32m    374\u001b[0m         \u001b[0;32melse\u001b[0m\u001b[0;34m:\u001b[0m\u001b[0;34m\u001b[0m\u001b[0;34m\u001b[0m\u001b[0m\n\u001b[1;32m    375\u001b[0m             \u001b[0mreader\u001b[0m \u001b[0;34m=\u001b[0m \u001b[0mget_reader\u001b[0m\u001b[0;34m(\u001b[0m\u001b[0;34m**\u001b[0m\u001b[0mnew_kwargs\u001b[0m\u001b[0;34m)\u001b[0m\u001b[0;34m\u001b[0m\u001b[0;34m\u001b[0m\u001b[0m\n\u001b[0;32m--> 376\u001b[0;31m             \u001b[0mdat\u001b[0m \u001b[0;34m=\u001b[0m \u001b[0mreader\u001b[0m\u001b[0;34m.\u001b[0m\u001b[0mread\u001b[0m\u001b[0;34m(\u001b[0m\u001b[0mtable\u001b[0m\u001b[0;34m)\u001b[0m\u001b[0;34m\u001b[0m\u001b[0;34m\u001b[0m\u001b[0m\n\u001b[0m\u001b[1;32m    377\u001b[0m             _read_trace.append({'kwargs': copy.deepcopy(new_kwargs),\n\u001b[1;32m    378\u001b[0m                                 \u001b[0;34m'Reader'\u001b[0m\u001b[0;34m:\u001b[0m \u001b[0mreader\u001b[0m\u001b[0;34m.\u001b[0m\u001b[0m__class__\u001b[0m\u001b[0;34m,\u001b[0m\u001b[0;34m\u001b[0m\u001b[0;34m\u001b[0m\u001b[0m\n",
      "\u001b[0;32m~/opt/miniconda3/envs/Michi1/lib/python3.7/site-packages/astropy/io/ascii/cds.py\u001b[0m in \u001b[0;36mread\u001b[0;34m(self, table)\u001b[0m\n\u001b[1;32m    325\u001b[0m                     \u001b[0;32mreturn\u001b[0m \u001b[0mtable\u001b[0m\u001b[0;34m\u001b[0m\u001b[0;34m\u001b[0m\u001b[0m\n\u001b[1;32m    326\u001b[0m         \u001b[0;32melse\u001b[0m\u001b[0;34m:\u001b[0m\u001b[0;34m\u001b[0m\u001b[0;34m\u001b[0m\u001b[0m\n\u001b[0;32m--> 327\u001b[0;31m             \u001b[0;32mreturn\u001b[0m \u001b[0msuper\u001b[0m\u001b[0;34m(\u001b[0m\u001b[0;34m)\u001b[0m\u001b[0;34m.\u001b[0m\u001b[0mread\u001b[0m\u001b[0;34m(\u001b[0m\u001b[0mtable\u001b[0m\u001b[0;34m)\u001b[0m\u001b[0;34m\u001b[0m\u001b[0;34m\u001b[0m\u001b[0m\n\u001b[0m",
      "\u001b[0;32m~/opt/miniconda3/envs/Michi1/lib/python3.7/site-packages/astropy/io/ascii/core.py\u001b[0m in \u001b[0;36mread\u001b[0;34m(self, table)\u001b[0m\n\u001b[1;32m   1310\u001b[0m                                      self.include_names, self.exclude_names)\n\u001b[1;32m   1311\u001b[0m \u001b[0;34m\u001b[0m\u001b[0m\n\u001b[0;32m-> 1312\u001b[0;31m         \u001b[0mtable\u001b[0m \u001b[0;34m=\u001b[0m \u001b[0mself\u001b[0m\u001b[0;34m.\u001b[0m\u001b[0moutputter\u001b[0m\u001b[0;34m(\u001b[0m\u001b[0mself\u001b[0m\u001b[0;34m.\u001b[0m\u001b[0mheader\u001b[0m\u001b[0;34m.\u001b[0m\u001b[0mcols\u001b[0m\u001b[0;34m,\u001b[0m \u001b[0mself\u001b[0m\u001b[0;34m.\u001b[0m\u001b[0mmeta\u001b[0m\u001b[0;34m)\u001b[0m\u001b[0;34m\u001b[0m\u001b[0;34m\u001b[0m\u001b[0m\n\u001b[0m\u001b[1;32m   1313\u001b[0m         \u001b[0mself\u001b[0m\u001b[0;34m.\u001b[0m\u001b[0mcols\u001b[0m \u001b[0;34m=\u001b[0m \u001b[0mself\u001b[0m\u001b[0;34m.\u001b[0m\u001b[0mheader\u001b[0m\u001b[0;34m.\u001b[0m\u001b[0mcols\u001b[0m\u001b[0;34m\u001b[0m\u001b[0;34m\u001b[0m\u001b[0m\n\u001b[1;32m   1314\u001b[0m \u001b[0;34m\u001b[0m\u001b[0m\n",
      "\u001b[0;32m~/opt/miniconda3/envs/Michi1/lib/python3.7/site-packages/astropy/io/ascii/core.py\u001b[0m in \u001b[0;36m__call__\u001b[0;34m(self, cols, meta)\u001b[0m\n\u001b[1;32m   1069\u001b[0m         \u001b[0;31m# Sets col.data to numpy array and col.type to io.ascii Type class (e.g.\u001b[0m\u001b[0;34m\u001b[0m\u001b[0;34m\u001b[0m\u001b[0;34m\u001b[0m\u001b[0m\n\u001b[1;32m   1070\u001b[0m         \u001b[0;31m# FloatType) for each col.\u001b[0m\u001b[0;34m\u001b[0m\u001b[0;34m\u001b[0m\u001b[0;34m\u001b[0m\u001b[0m\n\u001b[0;32m-> 1071\u001b[0;31m         \u001b[0mself\u001b[0m\u001b[0;34m.\u001b[0m\u001b[0m_convert_vals\u001b[0m\u001b[0;34m(\u001b[0m\u001b[0mcols\u001b[0m\u001b[0;34m)\u001b[0m\u001b[0;34m\u001b[0m\u001b[0;34m\u001b[0m\u001b[0m\n\u001b[0m\u001b[1;32m   1072\u001b[0m \u001b[0;34m\u001b[0m\u001b[0m\n\u001b[1;32m   1073\u001b[0m         t_cols = [numpy.ma.MaskedArray(x.data, mask=x.mask)\n",
      "\u001b[0;32m~/opt/miniconda3/envs/Michi1/lib/python3.7/site-packages/astropy/io/ascii/core.py\u001b[0m in \u001b[0;36m_convert_vals\u001b[0;34m(self, cols)\u001b[0m\n\u001b[1;32m   1032\u001b[0m                     \u001b[0mlast_err\u001b[0m \u001b[0;34m=\u001b[0m \u001b[0merr\u001b[0m\u001b[0;34m\u001b[0m\u001b[0;34m\u001b[0m\u001b[0m\n\u001b[1;32m   1033\u001b[0m                 \u001b[0;32mexcept\u001b[0m \u001b[0mIndexError\u001b[0m\u001b[0;34m:\u001b[0m\u001b[0;34m\u001b[0m\u001b[0;34m\u001b[0m\u001b[0m\n\u001b[0;32m-> 1034\u001b[0;31m                     \u001b[0;32mraise\u001b[0m \u001b[0mValueError\u001b[0m\u001b[0;34m(\u001b[0m\u001b[0;34mf'Column {col.name} failed to convert: {last_err}'\u001b[0m\u001b[0;34m)\u001b[0m\u001b[0;34m\u001b[0m\u001b[0;34m\u001b[0m\u001b[0m\n\u001b[0m\u001b[1;32m   1035\u001b[0m \u001b[0;34m\u001b[0m\u001b[0m\n\u001b[1;32m   1036\u001b[0m \u001b[0;34m\u001b[0m\u001b[0m\n",
      "\u001b[0;31mValueError\u001b[0m: Column year failed to convert: invalid literal for int() with base 10: '<!'"
     ]
    }
   ],
   "source": [
    "from gwfastUtils import GPSt_to_LMST\n",
    "\n",
    "# Median values of the posterior samples for all the parameters, \n",
    "# except psi and the coalescence phase that are set to 0\n",
    "\n",
    "z = onp.array([0.00980])\n",
    "tGPS = onp.array([1187008882.4])\n",
    "\n",
    "GW170817 = {'Mc':onp.array([1.1859])*(1.+z), \n",
    "            'dL':Planck18.luminosity_distance(z).value/1000., \n",
    "            'theta':onp.array([onp.pi/2. + 0.4080839999999999]), \n",
    "            'phi':onp.array([3.4461599999999994]),\n",
    "            'iota':onp.array([2.545065595974997]), \n",
    "            'psi':onp.array([0.]),\n",
    "            'tcoal':GPSt_to_LMST(tGPS, lat=0., long=0.), # GMST is LMST computed at long = 0° \n",
    "            'eta':onp.array([0.24786618323504223]), \n",
    "            'Phicoal':onp.array([0.]), \n",
    "            'chi1z':onp.array([0.005136138323169717]), \n",
    "            'chi2z':onp.array([0.003235146993487445]), \n",
    "            'Lambda1':onp.array([368.17802383555687]), \n",
    "            'Lambda2':onp.array([586.5487031450857])\n",
    "           }\n",
    "\n",
    "print('Parameters for GW170817 are:')\n",
    "GW170817"
   ]
  },
  {
   "cell_type": "markdown",
   "metadata": {},
   "source": [
    "### Compute the expected SNR (true was 33)"
   ]
  },
  {
   "cell_type": "code",
   "execution_count": 10,
   "metadata": {},
   "outputs": [
    {
     "ename": "NameError",
     "evalue": "name 'GW170817' is not defined",
     "output_type": "error",
     "traceback": [
      "\u001b[0;31m---------------------------------------------------------------------------\u001b[0m",
      "\u001b[0;31mNameError\u001b[0m                                 Traceback (most recent call last)",
      "\u001b[0;32m/var/folders/7z/9fmsdymn6d9czjwbfxrddkrw0000gp/T/ipykernel_18507/3369811059.py\u001b[0m in \u001b[0;36m<module>\u001b[0;34m\u001b[0m\n\u001b[0;32m----> 1\u001b[0;31m \u001b[0mSNR\u001b[0m \u001b[0;34m=\u001b[0m \u001b[0mmyLVNet\u001b[0m\u001b[0;34m.\u001b[0m\u001b[0mSNR\u001b[0m\u001b[0;34m(\u001b[0m\u001b[0mGW170817\u001b[0m\u001b[0;34m)\u001b[0m\u001b[0;34m\u001b[0m\u001b[0;34m\u001b[0m\u001b[0m\n\u001b[0m\u001b[1;32m      2\u001b[0m \u001b[0mprint\u001b[0m\u001b[0;34m(\u001b[0m\u001b[0;34m'SNR for GW170817 is %.2f to compare with 33'\u001b[0m\u001b[0;34m%\u001b[0m\u001b[0mSNR\u001b[0m\u001b[0;34m[\u001b[0m\u001b[0;36m0\u001b[0m\u001b[0;34m]\u001b[0m\u001b[0;34m)\u001b[0m\u001b[0;34m\u001b[0m\u001b[0;34m\u001b[0m\u001b[0m\n",
      "\u001b[0;31mNameError\u001b[0m: name 'GW170817' is not defined"
     ]
    }
   ],
   "source": [
    "SNR = myLVNet.SNR(GW170817)\n",
    "print('SNR for GW170817 is %.2f to compare with 33'%SNR[0])"
   ]
  },
  {
   "cell_type": "markdown",
   "metadata": {},
   "source": [
    "### Compute the total Fisher matrix"
   ]
  },
  {
   "cell_type": "code",
   "execution_count": 9,
   "metadata": {},
   "outputs": [
    {
     "name": "stdout",
     "output_type": "stream",
     "text": [
      "Computing Fisher for L1...\n",
      "Computing derivatives...\n",
      "Computing Fisher for H1...\n",
      "Computing derivatives...\n",
      "Computing Fisher for Virgo...\n",
      "Computing derivatives...\n",
      "Computing total Fisher ...\n",
      "Done.\n",
      "The computed Fisher matrix has shape (13, 13, 1)\n"
     ]
    }
   ],
   "source": [
    "totF = myLVNet.FisherMatr(GW170817)\n",
    "print('The computed Fisher matrix has shape %s'%str(totF.shape))"
   ]
  },
  {
   "cell_type": "code",
   "execution_count": 10,
   "metadata": {},
   "outputs": [
    {
     "name": "stdout",
     "output_type": "stream",
     "text": [
      "The relative difference is 0.00e+00 !\n"
     ]
    }
   ],
   "source": [
    "# Check e.g. that the (dL,dL) element corresponds to (SNR/dL)^2\n",
    "ParNums = IMRPhenomD_NRTidalv2().ParNums\n",
    "dL_Num = ParNums['dL']\n",
    "print('The relative difference is %.2e !'%((1 - totF[ParNums['dL'],ParNums['dL'],:]/(SNR/GW170817['dL'])**2)[0]))\n"
   ]
  },
  {
   "cell_type": "markdown",
   "metadata": {},
   "source": [
    "### Compute the covariance and perform some checks"
   ]
  },
  {
   "cell_type": "code",
   "execution_count": 11,
   "metadata": {},
   "outputs": [
    {
     "name": "stdout",
     "output_type": "stream",
     "text": [
      " Inversion error with method cho: min=5.0546875, max=5.0546875, mean=5.0546875, std=0.0 \n",
      "Method cho not possible on 0 non-positive definite matrices, svd was used in those cases. \n"
     ]
    }
   ],
   "source": [
    "totCov = CovMatr(totF)\n"
   ]
  },
  {
   "cell_type": "code",
   "execution_count": 12,
   "metadata": {},
   "outputs": [
    {
     "name": "stdout",
     "output_type": "stream",
     "text": [
      "Inversion errors: [5.0546875]\n",
      "diagonal-1 = [array([ 4.34316583e-10,  1.54400936e-09,  1.16590982e-13,  2.00685822e-15,\n",
      "        1.02555985e-13, -1.25337837e-13,  5.26856336e-12,  7.68771713e-11,\n",
      "        5.56807933e-11, -7.52932010e-08,  3.68422661e-08, -1.16394394e-12,\n",
      "        2.86718205e-10], dtype=float128)]\n",
      "Max off diagonal: [0.070709228515625]\n",
      "\n",
      "mask: where F*S(off-diagonal)>1e-10 (--> problematic if True off diagonal)\n",
      "[array([[ True, False, False, False, False, False, False, False, False,\n",
      "        False, False, False, False],\n",
      "       [False,  True, False, False, False, False, False,  True, False,\n",
      "         True, False, False, False],\n",
      "       [False,  True,  True, False, False, False, False, False, False,\n",
      "        False, False, False, False],\n",
      "       [False, False, False,  True, False, False, False, False, False,\n",
      "        False, False, False, False],\n",
      "       [False, False, False, False,  True, False, False, False, False,\n",
      "        False, False, False, False],\n",
      "       [False,  True, False, False, False,  True, False, False, False,\n",
      "         True, False, False, False],\n",
      "       [ True, False, False, False, False, False,  True,  True, False,\n",
      "        False, False, False, False],\n",
      "       [ True, False, False, False, False, False, False,  True, False,\n",
      "        False, False, False, False],\n",
      "       [False, False, False, False, False, False, False, False,  True,\n",
      "         True,  True, False, False],\n",
      "       [ True, False, False, False, False, False,  True, False, False,\n",
      "         True,  True, False, False],\n",
      "       [False,  True, False, False,  True, False, False, False,  True,\n",
      "         True,  True, False, False],\n",
      "       [ True, False, False,  True,  True, False,  True,  True, False,\n",
      "        False, False,  True, False],\n",
      "       [False,  True, False, False,  True,  True, False, False,  True,\n",
      "         True,  True,  True,  True]])]\n"
     ]
    }
   ],
   "source": [
    "_ = check_covariance(totF, totCov)\n"
   ]
  },
  {
   "cell_type": "markdown",
   "metadata": {},
   "source": [
    "### Now try to eliminate the row corresponding to $\\delta\\tilde{\\Lambda}$, and see that the inversion error lowers"
   ]
  },
  {
   "cell_type": "code",
   "execution_count": 13,
   "metadata": {},
   "outputs": [
    {
     "name": "stdout",
     "output_type": "stream",
     "text": [
      "Now the Fisher matrix has shape (12, 12, 1)\n",
      " Inversion error with method cho: min=0.0002564842579886317253, max=0.0002564842579886317253, mean=0.0002564842579886317253, std=0.0 \n",
      "Method cho not possible on 0 non-positive definite matrices, svd was used in those cases. \n",
      "Inversion errors: [0.00025648]\n",
      "diagonal-1 = [array([ 3.39750728e-10, -1.41578904e-09,  2.23587858e-13,  5.62809348e-16,\n",
      "        7.38504310e-14, -4.63132028e-13,  1.08197856e-11, -1.77754339e-12,\n",
      "        4.34574043e-11,  4.50727562e-08, -6.47870664e-08,  1.06994621e-12],\n",
      "      dtype=float128)]\n",
      "Max off diagonal: [4.193616405245848e-06]\n",
      "\n",
      "mask: where F*S(off-diagonal)>1e-10 (--> problematic if True off diagonal)\n",
      "[array([[ True, False, False, False, False, False, False, False, False,\n",
      "        False, False, False],\n",
      "       [ True,  True, False, False, False, False, False,  True, False,\n",
      "        False, False, False],\n",
      "       [ True, False,  True, False, False, False, False,  True, False,\n",
      "        False, False, False],\n",
      "       [False, False, False,  True, False, False, False, False, False,\n",
      "        False, False, False],\n",
      "       [False, False, False, False,  True, False, False, False, False,\n",
      "        False, False, False],\n",
      "       [False,  True, False, False, False,  True, False, False, False,\n",
      "         True,  True, False],\n",
      "       [ True, False, False, False, False, False,  True,  True, False,\n",
      "        False, False, False],\n",
      "       [ True, False, False, False, False, False, False,  True, False,\n",
      "        False, False, False],\n",
      "       [ True, False, False, False, False, False, False, False,  True,\n",
      "        False,  True, False],\n",
      "       [False, False, False, False, False, False, False, False,  True,\n",
      "         True,  True, False],\n",
      "       [False,  True, False, False,  True, False, False,  True, False,\n",
      "         True,  True, False],\n",
      "       [False,  True, False, False,  True, False, False,  True,  True,\n",
      "         True, False,  True]])]\n"
     ]
    }
   ],
   "source": [
    "ParNums = IMRPhenomD_NRTidalv2().ParNums\n",
    "\n",
    "newFish, newPars = fixParams(totF, ParNums, ['deltaLambda'])\n",
    "\n",
    "print('Now the Fisher matrix has shape %s'%str(newFish.shape))\n",
    "\n",
    "newCov = CovMatr(newFish)\n",
    "\n",
    "_ = check_covariance(newFish, newCov)\n"
   ]
  },
  {
   "cell_type": "markdown",
   "metadata": {},
   "source": [
    "### Finally compute the localisation region"
   ]
  },
  {
   "cell_type": "code",
   "execution_count": 14,
   "metadata": {},
   "outputs": [
    {
     "name": "stdout",
     "output_type": "stream",
     "text": [
      "The estimated sky location is 19.9 deg^2, to compare with 16 deg^2\n"
     ]
    }
   ],
   "source": [
    "skyArea = compute_localization_region(newCov, newPars, GW170817['theta'])\n",
    "print('The estimated sky location is %.1f deg^2, to compare with 16 deg^2'%skyArea)\n"
   ]
  },
  {
   "cell_type": "markdown",
   "metadata": {},
   "source": [
    "## Now an example with ET and multiple events together"
   ]
  },
  {
   "cell_type": "markdown",
   "metadata": {},
   "source": [
    "### Configure the interforometer's properties"
   ]
  },
  {
   "cell_type": "code",
   "execution_count": 15,
   "metadata": {},
   "outputs": [
    {
     "name": "stdout",
     "output_type": "stream",
     "text": [
      "{'ET': {'lat': 40.516666666666666, 'long': 9.416666666666666, 'xax': 0.0, 'shape': 'T'}}\n"
     ]
    }
   ],
   "source": [
    "# Configure ET and the PSD\n",
    "ETdet = {'ET': copy.deepcopy(glob.detectors).pop('ETS') }\n",
    "print(ETdet)\n",
    "ETdet['ET']['psd_path'] = os.path.join(glob.detPath, 'ET-0000A-18.txt')"
   ]
  },
  {
   "cell_type": "markdown",
   "metadata": {},
   "source": [
    "### Build the DetNet object"
   ]
  },
  {
   "cell_type": "code",
   "execution_count": 16,
   "metadata": {},
   "outputs": [],
   "source": [
    "from gwfast.waveforms import TaylorF2_RestrictedPN\n",
    "from gwfast.signal import GWSignal\n",
    "from gwfast.network import DetNet"
   ]
  },
  {
   "cell_type": "code",
   "execution_count": 17,
   "metadata": {},
   "outputs": [
    {
     "name": "stdout",
     "output_type": "stream",
     "text": [
      "Using ASD from file /Users/francesco.iacovelli/Desktop/PhD/Research/2021-09_paper_BNS_massfun_MCMC1/GWfish/psds/ET-0000A-18.txt \n",
      "Initializing jax...\n",
      "Jax local device count: 8\n",
      "Jax  device count: 8\n"
     ]
    }
   ],
   "source": [
    "mySignalsET = {}\n",
    "\n",
    "for d in ETdet.keys():\n",
    "\n",
    "    mySignalsET[d] = GWSignal(TaylorF2_RestrictedPN(use_3p5PN_SpinHO=True, is_tidal=True), \n",
    "                psd_path= ETdet[d]['psd_path'],\n",
    "                detector_shape = ETdet[d]['shape'],\n",
    "                det_lat= ETdet[d]['lat'],\n",
    "                det_long=ETdet[d]['long'],\n",
    "                det_xax=ETdet[d]['xax'], \n",
    "                verbose=True,\n",
    "                useEarthMotion = True,\n",
    "                fmin=2.,\n",
    "                IntTablePath=None) \n",
    "\n",
    "myNet = DetNet(mySignalsET) "
   ]
  },
  {
   "cell_type": "markdown",
   "metadata": {},
   "source": [
    "### Sample some BNS-like events"
   ]
  },
  {
   "cell_type": "code",
   "execution_count": 18,
   "metadata": {},
   "outputs": [],
   "source": [
    "nevents=100\n",
    "\n",
    "zs = onp.random.uniform(1e-2, 3., nevents)\n",
    "\n",
    "dLs = Planck18.luminosity_distance(zs).value/1000\n",
    "\n",
    "Mcs = onp.random.normal(loc=1.156, scale=0.056, size=nevents) \n",
    "   \n",
    "events_rand = {'Mc': Mcs*(1.+zs), \n",
    "               'eta': onp.random.uniform(0.24, 0.25, nevents), \n",
    "               'dL': dLs, \n",
    "               'theta':onp.arccos(onp.random.uniform(-1., 1., nevents)), \n",
    "               'phi':onp.random.uniform(0., 2.*onp.pi, nevents), \n",
    "               'iota':onp.arccos(onp.random.uniform(-1., 1., nevents)), \n",
    "               'psi':onp.random.uniform(0., 2.*onp.pi, nevents), \n",
    "               'tcoal':onp.random.uniform(0., 1., nevents), \n",
    "               'Phicoal': onp.random.uniform(0., 2.*onp.pi, nevents),\n",
    "               'chi1z':onp.random.uniform(-.05, .05, nevents), \n",
    "               'chi2z':onp.random.uniform(-.05, .05, nevents), \n",
    "               'Lambda1':onp.random.uniform(0., 2000., nevents), \n",
    "               'Lambda2':onp.random.uniform(0., 2000., nevents),\n",
    "              }\n"
   ]
  },
  {
   "cell_type": "markdown",
   "metadata": {},
   "source": [
    "### Then computing SNRs and Fisher matrices is as easy and fast as"
   ]
  },
  {
   "cell_type": "code",
   "execution_count": 19,
   "metadata": {},
   "outputs": [
    {
     "name": "stdout",
     "output_type": "stream",
     "text": [
      "CPU times: user 798 ms, sys: 71.6 ms, total: 869 ms\n",
      "Wall time: 786 ms\n"
     ]
    }
   ],
   "source": [
    "%%time\n",
    "snrs = myNet.SNR(events_rand)"
   ]
  },
  {
   "cell_type": "code",
   "execution_count": 20,
   "metadata": {},
   "outputs": [
    {
     "name": "stdout",
     "output_type": "stream",
     "text": [
      "Computing Fisher for ET...\n",
      "Computing derivatives...\n",
      "Filling matrix for arm 1...\n",
      "Computing derivatives...\n",
      "Filling matrix for arm 2...\n",
      "Filling matrix for arm 3...\n",
      "Computing total Fisher ...\n",
      "Done.\n",
      "CPU times: user 5min 1s, sys: 4min 6s, total: 9min 8s\n",
      "Wall time: 3min 1s\n"
     ]
    }
   ],
   "source": [
    "%%time\n",
    "totF = myNet.FisherMatr(events_rand)"
   ]
  },
  {
   "cell_type": "markdown",
   "metadata": {},
   "source": [
    "### Both the signal and the network objects also contain a function to compute the optimal location in the sky to observe a binary with the considered configuration at a given time"
   ]
  },
  {
   "cell_type": "code",
   "execution_count": 21,
   "metadata": {},
   "outputs": [
    {
     "data": {
      "text/plain": [
       "array([0.86365599, 0.16434126])"
      ]
     },
     "execution_count": 21,
     "metadata": {},
     "output_type": "execute_result"
    }
   ],
   "source": [
    "myNet.optimal_location(0.)"
   ]
  },
  {
   "cell_type": "markdown",
   "metadata": {},
   "source": [
    "### This can be used e.g. to compute the detector reach for a given kind of source, as"
   ]
  },
  {
   "cell_type": "code",
   "execution_count": 22,
   "metadata": {},
   "outputs": [],
   "source": [
    "# Consider an equal mass non-spinning BNS system of 1.4 Msun, optimally oriented\n",
    "# Notice that we here include in the dictionary the source-frame chirp mass\n",
    "\n",
    "event = {'Mcsrc':onp.array([1.2187707886145736]), 'eta':onp.array([.25]), 'iota':onp.array([0.]), \n",
    "         'psi':onp.array([0.]), 'tcoal':onp.array([0.]), 'Phicoal':onp.array([0.]),\n",
    "         'chi1z':onp.array([0.]), 'chi2z':onp.array([0.]), \n",
    "         'Lambda1':onp.array([0.]), 'Lambda2':onp.array([0.])}"
   ]
  },
  {
   "cell_type": "code",
   "execution_count": 23,
   "metadata": {},
   "outputs": [],
   "source": [
    "from astropy.cosmology import Planck18\n",
    "# We use Planck 18 cosmology to convert redshifts into luminosity distances\n",
    "\n",
    "def get_zreach_event(detnet, event, SNRth=12):\n",
    "    \n",
    "    from scipy.optimize import minimize\n",
    "    # Compute the best location and use it\n",
    "    best_theta, best_phi = detnet.optimal_location(event['tcoal'], is_tGPS=False)\n",
    "    \n",
    "    event['theta'] = best_theta\n",
    "    event['phi'] = best_phi\n",
    "    \n",
    "    def SNRofz(z):\n",
    "        event['Mc'] = event['Mcsrc']*(1+z)\n",
    "        event['dL'] = Planck18.luminosity_distance(z)/1000.\n",
    "        \n",
    "        return abs(detnet.SNR(event)-SNRth)\n",
    "        \n",
    "    return minimize(SNRofz, 1).x"
   ]
  },
  {
   "cell_type": "code",
   "execution_count": 24,
   "metadata": {},
   "outputs": [
    {
     "data": {
      "text/plain": [
       "array([2.67228091])"
      ]
     },
     "execution_count": 24,
     "metadata": {},
     "output_type": "execute_result"
    }
   ],
   "source": [
    "get_zreach_event(myNet, event, SNRth=10)"
   ]
  },
  {
   "cell_type": "code",
   "execution_count": null,
   "metadata": {},
   "outputs": [],
   "source": []
  }
 ],
 "metadata": {
  "kernelspec": {
   "display_name": "Python 3 (ipykernel)",
   "language": "python",
   "name": "python3"
  },
  "language_info": {
   "codemirror_mode": {
    "name": "ipython",
    "version": 3
   },
   "file_extension": ".py",
   "mimetype": "text/x-python",
   "name": "python",
   "nbconvert_exporter": "python",
   "pygments_lexer": "ipython3",
   "version": "3.7.9"
  }
 },
 "nbformat": 4,
 "nbformat_minor": 4
}
